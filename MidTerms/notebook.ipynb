{
 "cells": [
  {
   "cell_type": "code",
   "execution_count": 1,
   "metadata": {},
   "outputs": [],
   "source": [
    "#import packages\n",
    "import pandas as pd\n",
    "import matplotlib.pyplot as plt\n",
    "import seaborn as sns\n",
    "\n",
    "import numpy as np\n",
    "\n",
    "from sklearn.model_selection import train_test_split\n",
    "from sklearn.metrics import mutual_info_score\n",
    "from sklearn.metrics import roc_auc_score\n",
    "from sklearn.linear_model import LogisticRegression\n",
    "from sklearn.tree import DecisionTreeClassifier\n",
    "from sklearn.ensemble import RandomForestClassifier\n",
    "\n",
    "import xgboost as xgb"
   ]
  },
  {
   "cell_type": "code",
   "execution_count": 2,
   "metadata": {},
   "outputs": [
    {
     "data": {
      "text/html": [
       "<div>\n",
       "<style scoped>\n",
       "    .dataframe tbody tr th:only-of-type {\n",
       "        vertical-align: middle;\n",
       "    }\n",
       "\n",
       "    .dataframe tbody tr th {\n",
       "        vertical-align: top;\n",
       "    }\n",
       "\n",
       "    .dataframe thead th {\n",
       "        text-align: right;\n",
       "    }\n",
       "</style>\n",
       "<table border=\"1\" class=\"dataframe\">\n",
       "  <thead>\n",
       "    <tr style=\"text-align: right;\">\n",
       "      <th></th>\n",
       "      <th>SeriousDlqin2yrs</th>\n",
       "      <th>RevolvingUtilizationOfUnsecuredLines</th>\n",
       "      <th>age</th>\n",
       "      <th>NumberOfTime30-59DaysPastDueNotWorse</th>\n",
       "      <th>DebtRatio</th>\n",
       "      <th>MonthlyIncome</th>\n",
       "      <th>NumberOfOpenCreditLinesAndLoans</th>\n",
       "      <th>NumberOfTimes90DaysLate</th>\n",
       "      <th>NumberRealEstateLoansOrLines</th>\n",
       "      <th>NumberOfTime60-89DaysPastDueNotWorse</th>\n",
       "      <th>NumberOfDependents</th>\n",
       "    </tr>\n",
       "  </thead>\n",
       "  <tbody>\n",
       "    <tr>\n",
       "      <th>0</th>\n",
       "      <td>1</td>\n",
       "      <td>0.766127</td>\n",
       "      <td>45</td>\n",
       "      <td>2</td>\n",
       "      <td>0.802982</td>\n",
       "      <td>9120.0</td>\n",
       "      <td>13</td>\n",
       "      <td>0</td>\n",
       "      <td>6</td>\n",
       "      <td>0</td>\n",
       "      <td>2.0</td>\n",
       "    </tr>\n",
       "    <tr>\n",
       "      <th>1</th>\n",
       "      <td>0</td>\n",
       "      <td>0.957151</td>\n",
       "      <td>40</td>\n",
       "      <td>0</td>\n",
       "      <td>0.121876</td>\n",
       "      <td>2600.0</td>\n",
       "      <td>4</td>\n",
       "      <td>0</td>\n",
       "      <td>0</td>\n",
       "      <td>0</td>\n",
       "      <td>1.0</td>\n",
       "    </tr>\n",
       "    <tr>\n",
       "      <th>2</th>\n",
       "      <td>0</td>\n",
       "      <td>0.658180</td>\n",
       "      <td>38</td>\n",
       "      <td>1</td>\n",
       "      <td>0.085113</td>\n",
       "      <td>3042.0</td>\n",
       "      <td>2</td>\n",
       "      <td>1</td>\n",
       "      <td>0</td>\n",
       "      <td>0</td>\n",
       "      <td>0.0</td>\n",
       "    </tr>\n",
       "    <tr>\n",
       "      <th>3</th>\n",
       "      <td>0</td>\n",
       "      <td>0.233810</td>\n",
       "      <td>30</td>\n",
       "      <td>0</td>\n",
       "      <td>0.036050</td>\n",
       "      <td>3300.0</td>\n",
       "      <td>5</td>\n",
       "      <td>0</td>\n",
       "      <td>0</td>\n",
       "      <td>0</td>\n",
       "      <td>0.0</td>\n",
       "    </tr>\n",
       "    <tr>\n",
       "      <th>4</th>\n",
       "      <td>0</td>\n",
       "      <td>0.907239</td>\n",
       "      <td>49</td>\n",
       "      <td>1</td>\n",
       "      <td>0.024926</td>\n",
       "      <td>63588.0</td>\n",
       "      <td>7</td>\n",
       "      <td>0</td>\n",
       "      <td>1</td>\n",
       "      <td>0</td>\n",
       "      <td>0.0</td>\n",
       "    </tr>\n",
       "  </tbody>\n",
       "</table>\n",
       "</div>"
      ],
      "text/plain": [
       "   SeriousDlqin2yrs  RevolvingUtilizationOfUnsecuredLines  age  \\\n",
       "0                 1                              0.766127   45   \n",
       "1                 0                              0.957151   40   \n",
       "2                 0                              0.658180   38   \n",
       "3                 0                              0.233810   30   \n",
       "4                 0                              0.907239   49   \n",
       "\n",
       "   NumberOfTime30-59DaysPastDueNotWorse  DebtRatio  MonthlyIncome  \\\n",
       "0                                     2   0.802982         9120.0   \n",
       "1                                     0   0.121876         2600.0   \n",
       "2                                     1   0.085113         3042.0   \n",
       "3                                     0   0.036050         3300.0   \n",
       "4                                     1   0.024926        63588.0   \n",
       "\n",
       "   NumberOfOpenCreditLinesAndLoans  NumberOfTimes90DaysLate  \\\n",
       "0                               13                        0   \n",
       "1                                4                        0   \n",
       "2                                2                        1   \n",
       "3                                5                        0   \n",
       "4                                7                        0   \n",
       "\n",
       "   NumberRealEstateLoansOrLines  NumberOfTime60-89DaysPastDueNotWorse  \\\n",
       "0                             6                                     0   \n",
       "1                             0                                     0   \n",
       "2                             0                                     0   \n",
       "3                             0                                     0   \n",
       "4                             1                                     0   \n",
       "\n",
       "   NumberOfDependents  \n",
       "0                 2.0  \n",
       "1                 1.0  \n",
       "2                 0.0  \n",
       "3                 0.0  \n",
       "4                 0.0  "
      ]
     },
     "execution_count": 2,
     "metadata": {},
     "output_type": "execute_result"
    }
   ],
   "source": [
    "#read in data\n",
    "data = pd.read_csv('data.csv')\n",
    "del data['Unnamed: 0']\n",
    "\n",
    "data.head()"
   ]
  },
  {
   "cell_type": "code",
   "execution_count": 14,
   "metadata": {},
   "outputs": [
    {
     "data": {
      "text/html": [
       "<div>\n",
       "<style scoped>\n",
       "    .dataframe tbody tr th:only-of-type {\n",
       "        vertical-align: middle;\n",
       "    }\n",
       "\n",
       "    .dataframe tbody tr th {\n",
       "        vertical-align: top;\n",
       "    }\n",
       "\n",
       "    .dataframe thead th {\n",
       "        text-align: right;\n",
       "    }\n",
       "</style>\n",
       "<table border=\"1\" class=\"dataframe\">\n",
       "  <thead>\n",
       "    <tr style=\"text-align: right;\">\n",
       "      <th></th>\n",
       "      <th>Unnamed: 0</th>\n",
       "      <th>SeriousDlqin2yrs</th>\n",
       "      <th>RevolvingUtilizationOfUnsecuredLines</th>\n",
       "      <th>age</th>\n",
       "      <th>NumberOfTime30-59DaysPastDueNotWorse</th>\n",
       "      <th>DebtRatio</th>\n",
       "      <th>MonthlyIncome</th>\n",
       "      <th>NumberOfOpenCreditLinesAndLoans</th>\n",
       "      <th>NumberOfTimes90DaysLate</th>\n",
       "      <th>NumberRealEstateLoansOrLines</th>\n",
       "      <th>NumberOfTime60-89DaysPastDueNotWorse</th>\n",
       "      <th>NumberOfDependents</th>\n",
       "    </tr>\n",
       "  </thead>\n",
       "  <tbody>\n",
       "    <tr>\n",
       "      <th>count</th>\n",
       "      <td>150000.000000</td>\n",
       "      <td>150000.000000</td>\n",
       "      <td>150000.000000</td>\n",
       "      <td>150000.000000</td>\n",
       "      <td>150000.000000</td>\n",
       "      <td>150000.000000</td>\n",
       "      <td>1.202690e+05</td>\n",
       "      <td>150000.000000</td>\n",
       "      <td>150000.000000</td>\n",
       "      <td>150000.000000</td>\n",
       "      <td>150000.000000</td>\n",
       "      <td>146076.000000</td>\n",
       "    </tr>\n",
       "    <tr>\n",
       "      <th>mean</th>\n",
       "      <td>75000.500000</td>\n",
       "      <td>0.066840</td>\n",
       "      <td>6.048438</td>\n",
       "      <td>52.295207</td>\n",
       "      <td>0.421033</td>\n",
       "      <td>353.005076</td>\n",
       "      <td>6.670221e+03</td>\n",
       "      <td>8.452760</td>\n",
       "      <td>0.265973</td>\n",
       "      <td>1.018240</td>\n",
       "      <td>0.240387</td>\n",
       "      <td>0.757222</td>\n",
       "    </tr>\n",
       "    <tr>\n",
       "      <th>std</th>\n",
       "      <td>43301.414527</td>\n",
       "      <td>0.249746</td>\n",
       "      <td>249.755371</td>\n",
       "      <td>14.771866</td>\n",
       "      <td>4.192781</td>\n",
       "      <td>2037.818523</td>\n",
       "      <td>1.438467e+04</td>\n",
       "      <td>5.145951</td>\n",
       "      <td>4.169304</td>\n",
       "      <td>1.129771</td>\n",
       "      <td>4.155179</td>\n",
       "      <td>1.115086</td>\n",
       "    </tr>\n",
       "    <tr>\n",
       "      <th>min</th>\n",
       "      <td>1.000000</td>\n",
       "      <td>0.000000</td>\n",
       "      <td>0.000000</td>\n",
       "      <td>0.000000</td>\n",
       "      <td>0.000000</td>\n",
       "      <td>0.000000</td>\n",
       "      <td>0.000000e+00</td>\n",
       "      <td>0.000000</td>\n",
       "      <td>0.000000</td>\n",
       "      <td>0.000000</td>\n",
       "      <td>0.000000</td>\n",
       "      <td>0.000000</td>\n",
       "    </tr>\n",
       "    <tr>\n",
       "      <th>25%</th>\n",
       "      <td>37500.750000</td>\n",
       "      <td>0.000000</td>\n",
       "      <td>0.029867</td>\n",
       "      <td>41.000000</td>\n",
       "      <td>0.000000</td>\n",
       "      <td>0.175074</td>\n",
       "      <td>3.400000e+03</td>\n",
       "      <td>5.000000</td>\n",
       "      <td>0.000000</td>\n",
       "      <td>0.000000</td>\n",
       "      <td>0.000000</td>\n",
       "      <td>0.000000</td>\n",
       "    </tr>\n",
       "    <tr>\n",
       "      <th>50%</th>\n",
       "      <td>75000.500000</td>\n",
       "      <td>0.000000</td>\n",
       "      <td>0.154181</td>\n",
       "      <td>52.000000</td>\n",
       "      <td>0.000000</td>\n",
       "      <td>0.366508</td>\n",
       "      <td>5.400000e+03</td>\n",
       "      <td>8.000000</td>\n",
       "      <td>0.000000</td>\n",
       "      <td>1.000000</td>\n",
       "      <td>0.000000</td>\n",
       "      <td>0.000000</td>\n",
       "    </tr>\n",
       "    <tr>\n",
       "      <th>75%</th>\n",
       "      <td>112500.250000</td>\n",
       "      <td>0.000000</td>\n",
       "      <td>0.559046</td>\n",
       "      <td>63.000000</td>\n",
       "      <td>0.000000</td>\n",
       "      <td>0.868254</td>\n",
       "      <td>8.249000e+03</td>\n",
       "      <td>11.000000</td>\n",
       "      <td>0.000000</td>\n",
       "      <td>2.000000</td>\n",
       "      <td>0.000000</td>\n",
       "      <td>1.000000</td>\n",
       "    </tr>\n",
       "    <tr>\n",
       "      <th>max</th>\n",
       "      <td>150000.000000</td>\n",
       "      <td>1.000000</td>\n",
       "      <td>50708.000000</td>\n",
       "      <td>109.000000</td>\n",
       "      <td>98.000000</td>\n",
       "      <td>329664.000000</td>\n",
       "      <td>3.008750e+06</td>\n",
       "      <td>58.000000</td>\n",
       "      <td>98.000000</td>\n",
       "      <td>54.000000</td>\n",
       "      <td>98.000000</td>\n",
       "      <td>20.000000</td>\n",
       "    </tr>\n",
       "  </tbody>\n",
       "</table>\n",
       "</div>"
      ],
      "text/plain": [
       "          Unnamed: 0  SeriousDlqin2yrs  RevolvingUtilizationOfUnsecuredLines  \\\n",
       "count  150000.000000     150000.000000                         150000.000000   \n",
       "mean    75000.500000          0.066840                              6.048438   \n",
       "std     43301.414527          0.249746                            249.755371   \n",
       "min         1.000000          0.000000                              0.000000   \n",
       "25%     37500.750000          0.000000                              0.029867   \n",
       "50%     75000.500000          0.000000                              0.154181   \n",
       "75%    112500.250000          0.000000                              0.559046   \n",
       "max    150000.000000          1.000000                          50708.000000   \n",
       "\n",
       "                 age  NumberOfTime30-59DaysPastDueNotWorse      DebtRatio  \\\n",
       "count  150000.000000                         150000.000000  150000.000000   \n",
       "mean       52.295207                              0.421033     353.005076   \n",
       "std        14.771866                              4.192781    2037.818523   \n",
       "min         0.000000                              0.000000       0.000000   \n",
       "25%        41.000000                              0.000000       0.175074   \n",
       "50%        52.000000                              0.000000       0.366508   \n",
       "75%        63.000000                              0.000000       0.868254   \n",
       "max       109.000000                             98.000000  329664.000000   \n",
       "\n",
       "       MonthlyIncome  NumberOfOpenCreditLinesAndLoans  \\\n",
       "count   1.202690e+05                    150000.000000   \n",
       "mean    6.670221e+03                         8.452760   \n",
       "std     1.438467e+04                         5.145951   \n",
       "min     0.000000e+00                         0.000000   \n",
       "25%     3.400000e+03                         5.000000   \n",
       "50%     5.400000e+03                         8.000000   \n",
       "75%     8.249000e+03                        11.000000   \n",
       "max     3.008750e+06                        58.000000   \n",
       "\n",
       "       NumberOfTimes90DaysLate  NumberRealEstateLoansOrLines  \\\n",
       "count            150000.000000                 150000.000000   \n",
       "mean                  0.265973                      1.018240   \n",
       "std                   4.169304                      1.129771   \n",
       "min                   0.000000                      0.000000   \n",
       "25%                   0.000000                      0.000000   \n",
       "50%                   0.000000                      1.000000   \n",
       "75%                   0.000000                      2.000000   \n",
       "max                  98.000000                     54.000000   \n",
       "\n",
       "       NumberOfTime60-89DaysPastDueNotWorse  NumberOfDependents  \n",
       "count                         150000.000000       146076.000000  \n",
       "mean                               0.240387            0.757222  \n",
       "std                                4.155179            1.115086  \n",
       "min                                0.000000            0.000000  \n",
       "25%                                0.000000            0.000000  \n",
       "50%                                0.000000            0.000000  \n",
       "75%                                0.000000            1.000000  \n",
       "max                               98.000000           20.000000  "
      ]
     },
     "execution_count": 14,
     "metadata": {},
     "output_type": "execute_result"
    }
   ],
   "source": [
    "data.describe()"
   ]
  },
  {
   "cell_type": "markdown",
   "metadata": {},
   "source": [
    "## fix columns names"
   ]
  },
  {
   "cell_type": "code",
   "execution_count": 3,
   "metadata": {},
   "outputs": [],
   "source": [
    "data.rename(columns={'SeriousDlqin2yrs':'delinquent','RevolvingUtilizationOfUnsecuredLines':'revolveUtilUnsecured','NumberOfTime30-59DaysPastDueNotWorse':'times30to59dayslate','DebtRatio':'debtRatio', 'MonthlyIncome':'monthlyIncome', 'NumberOfOpenCreditLinesAndLoans':'totalCreditLines', 'NumberOfTimes90DaysLate':'times90DaysLate', 'NumberRealEstateLoansOrLines':'realEstateLines', 'NumberOfTime60-89DaysPastDueNotWorse':'times60to89dayslate', 'NumberOfDependents':'dependents'   }, inplace = True)"
   ]
  },
  {
   "cell_type": "markdown",
   "metadata": {},
   "source": [
    "## data types"
   ]
  },
  {
   "cell_type": "code",
   "execution_count": 93,
   "metadata": {},
   "outputs": [
    {
     "data": {
      "text/plain": [
       "delinquent                int64\n",
       "revolveUtilUnsecured    float64\n",
       "age                       int64\n",
       "times30to59dayslate       int64\n",
       "debtRatio               float64\n",
       "monthlyIncome           float64\n",
       "totalCreditLines          int64\n",
       "times90DaysLate           int64\n",
       "realEstateLines           int64\n",
       "times60to89dayslate       int64\n",
       "dependents              float64\n",
       "dtype: object"
      ]
     },
     "execution_count": 93,
     "metadata": {},
     "output_type": "execute_result"
    }
   ],
   "source": [
    "data.dtypes"
   ]
  },
  {
   "cell_type": "markdown",
   "metadata": {},
   "source": [
    "# Exploratory Data Analysis\n",
    "## target distribution"
   ]
  },
  {
   "cell_type": "code",
   "execution_count": 94,
   "metadata": {},
   "outputs": [
    {
     "data": {
      "text/plain": [
       "<matplotlib.axes._subplots.AxesSubplot at 0x1fd1dbc30d0>"
      ]
     },
     "execution_count": 94,
     "metadata": {},
     "output_type": "execute_result"
    },
    {
     "data": {
      "image/png": "[encoded data removed]",
      "text/plain": [
       "<Figure size 432x288 with 1 Axes>"
      ]
     },
     "metadata": {
      "needs_background": "light"
     },
     "output_type": "display_data"
    }
   ],
   "source": [
    "data.delinquent.hist()"
   ]
  },
  {
   "cell_type": "markdown",
   "metadata": {},
   "source": [
    "## missings"
   ]
  },
  {
   "cell_type": "code",
   "execution_count": 68,
   "metadata": {},
   "outputs": [
    {
     "name": "stdout",
     "output_type": "stream",
     "text": [
      "deliquent                   0\n",
      "revolveUtilUnsecured        0\n",
      "age                         0\n",
      "times30to59dayslate         0\n",
      "debtRatio                   0\n",
      "monthlyIncome           29731\n",
      "totalCreditLines            0\n",
      "times90DaysLate             0\n",
      "realEstateLines             0\n",
      "times60to89dayslate         0\n",
      "dependents               3924\n",
      "dtype: int64\n"
     ]
    }
   ],
   "source": [
    "print(data.isnull().sum())"
   ]
  },
  {
   "cell_type": "markdown",
   "metadata": {},
   "source": [
    "## feature distribution"
   ]
  },
  {
   "cell_type": "markdown",
   "metadata": {},
   "source": [
    "### revolveUtilUnsecured"
   ]
  },
  {
   "cell_type": "code",
   "execution_count": 29,
   "metadata": {},
   "outputs": [
    {
     "data": {
      "text/plain": [
       "<matplotlib.axes._subplots.AxesSubplot at 0x1fd17359bb0>"
      ]
     },
     "execution_count": 29,
     "metadata": {},
     "output_type": "execute_result"
    },
    {
     "data": {
      "image/png": "[encoded data removed]",
      "text/plain": [
       "<Figure size 432x288 with 1 Axes>"
      ]
     },
     "metadata": {
      "needs_background": "light"
     },
     "output_type": "display_data"
    }
   ],
   "source": [
    "sns.distplot(data.revolveUtilUnsecured)"
   ]
  },
  {
   "cell_type": "code",
   "execution_count": 84,
   "metadata": {},
   "outputs": [
    {
     "data": {
      "text/plain": [
       "<matplotlib.axes._subplots.AxesSubplot at 0x1fd1d90b070>"
      ]
     },
     "execution_count": 84,
     "metadata": {},
     "output_type": "execute_result"
    },
    {
     "data": {
      "image/png": "[encoded data removed]",
      "text/plain": [
       "<Figure size 432x288 with 1 Axes>"
      ]
     },
     "metadata": {
      "needs_background": "light"
     },
     "output_type": "display_data"
    }
   ],
   "source": [
    "sns.distplot(data.revolveUtilUnsecured[data.revolveUtilUnsecured  <= 1])"
   ]
  },
  {
   "cell_type": "code",
   "execution_count": 32,
   "metadata": {},
   "outputs": [
    {
     "data": {
      "text/plain": [
       "<matplotlib.axes._subplots.AxesSubplot at 0x1fd1863a4f0>"
      ]
     },
     "execution_count": 32,
     "metadata": {},
     "output_type": "execute_result"
    },
    {
     "data": {
      "image/png": "[encoded data removed]",
      "text/plain": [
       "<Figure size 432x288 with 1 Axes>"
      ]
     },
     "metadata": {
      "needs_background": "light"
     },
     "output_type": "display_data"
    }
   ],
   "source": [
    "sns.distplot(np.log1p(data.revolveUtilUnsecured))"
   ]
  },
  {
   "cell_type": "code",
   "execution_count": 83,
   "metadata": {},
   "outputs": [
    {
     "data": {
      "text/plain": [
       "<matplotlib.axes._subplots.AxesSubplot at 0x1fd1d84a280>"
      ]
     },
     "execution_count": 83,
     "metadata": {},
     "output_type": "execute_result"
    },
    {
     "data": {
      "image/png": "[encoded data removed]",
      "text/plain": [
       "<Figure size 432x288 with 1 Axes>"
      ]
     },
     "metadata": {
      "needs_background": "light"
     },
     "output_type": "display_data"
    }
   ],
   "source": [
    "sns.distplot(np.log1p(data.revolveUtilUnsecured[data.revolveUtilUnsecured  < 1]))"
   ]
  },
  {
   "cell_type": "code",
   "execution_count": 85,
   "metadata": {},
   "outputs": [
    {
     "data": {
      "text/plain": [
       "146662"
      ]
     },
     "execution_count": 85,
     "metadata": {},
     "output_type": "execute_result"
    }
   ],
   "source": [
    "#data.count()\n",
    "data.revolveUtilUnsecured[data.revolveUtilUnsecured < 1].count()"
   ]
  },
  {
   "cell_type": "code",
   "execution_count": 97,
   "metadata": {},
   "outputs": [
    {
     "name": "stdout",
     "output_type": "stream",
     "text": [
      "3321\n",
      "1237\n"
     ]
    }
   ],
   "source": [
    "print(data.revolveUtilUnsecured[data.revolveUtilUnsecured > 1].count())\n",
    "print(data.revolveUtilUnsecured[(data.revolveUtilUnsecured > 1) & (data.delinquent  == 1)].count())"
   ]
  },
  {
   "cell_type": "code",
   "execution_count": 98,
   "metadata": {},
   "outputs": [
    {
     "name": "stdout",
     "output_type": "stream",
     "text": [
      "146662\n",
      "8785\n"
     ]
    }
   ],
   "source": [
    "print(data.revolveUtilUnsecured[data.revolveUtilUnsecured < 1].count())\n",
    "print(data.revolveUtilUnsecured[(data.revolveUtilUnsecured < 1) & (data.delinquent  == 1)].count())"
   ]
  },
  {
   "cell_type": "markdown",
   "metadata": {},
   "source": [
    "### age"
   ]
  },
  {
   "cell_type": "code",
   "execution_count": 99,
   "metadata": {},
   "outputs": [
    {
     "data": {
      "text/plain": [
       "<matplotlib.axes._subplots.AxesSubplot at 0x1fd1acb3dc0>"
      ]
     },
     "execution_count": 99,
     "metadata": {},
     "output_type": "execute_result"
    },
    {
     "data": {
      "image/png": "[encoded data removed]",
      "text/plain": [
       "<Figure size 432x288 with 1 Axes>"
      ]
     },
     "metadata": {
      "needs_background": "light"
     },
     "output_type": "display_data"
    }
   ],
   "source": [
    "sns.distplot(data.age)"
   ]
  },
  {
   "cell_type": "code",
   "execution_count": 105,
   "metadata": {},
   "outputs": [
    {
     "name": "stdout",
     "output_type": "stream",
     "text": [
      "1\n",
      "4936\n"
     ]
    }
   ],
   "source": [
    "print(data.revolveUtilUnsecured[data.age < 18].count())"
   ]
  },
  {
   "cell_type": "code",
   "execution_count": 112,
   "metadata": {},
   "outputs": [
    {
     "name": "stdout",
     "output_type": "stream",
     "text": [
      "17636\n",
      "398\n",
      "4936\n",
      "100\n",
      "489\n",
      "11\n",
      "13\n",
      "1\n"
     ]
    }
   ],
   "source": [
    "print(data.revolveUtilUnsecured[data.age > 70].count())\n",
    "print(data.revolveUtilUnsecured[(data.age > 70) & (data.delinquent  == 1)].count())\n",
    "\n",
    "print(data.revolveUtilUnsecured[data.age > 80].count())\n",
    "print(data.revolveUtilUnsecured[(data.age > 80) & (data.delinquent  == 1)].count())\n",
    "\n",
    "print(data.revolveUtilUnsecured[data.age > 90].count())\n",
    "print(data.revolveUtilUnsecured[(data.age > 90) & (data.delinquent  == 1)].count())\n",
    "\n",
    "print(data.revolveUtilUnsecured[data.age > 100].count())\n",
    "print(data.revolveUtilUnsecured[(data.age > 100) & (data.delinquent  == 1)].count())\n"
   ]
  },
  {
   "cell_type": "markdown",
   "metadata": {},
   "source": [
    "### times30to59dayslate        "
   ]
  },
  {
   "cell_type": "code",
   "execution_count": 44,
   "metadata": {},
   "outputs": [
    {
     "name": "stderr",
     "output_type": "stream",
     "text": [
      "C:\\ProgramData\\Anaconda3\\lib\\site-packages\\seaborn\\distributions.py:369: UserWarning: Default bandwidth for data is 0; skipping density estimation.\n",
      "  warnings.warn(msg, UserWarning)\n"
     ]
    },
    {
     "data": {
      "text/plain": [
       "<matplotlib.axes._subplots.AxesSubplot at 0x1fd18c8e5b0>"
      ]
     },
     "execution_count": 44,
     "metadata": {},
     "output_type": "execute_result"
    },
    {
     "data": {
      "image/png": "[encoded data removed]",
      "text/plain": [
       "<Figure size 432x288 with 1 Axes>"
      ]
     },
     "metadata": {
      "needs_background": "light"
     },
     "output_type": "display_data"
    }
   ],
   "source": [
    "sns.distplot(data.times30to59dayslate)"
   ]
  },
  {
   "cell_type": "code",
   "execution_count": 45,
   "metadata": {},
   "outputs": [
    {
     "name": "stderr",
     "output_type": "stream",
     "text": [
      "C:\\ProgramData\\Anaconda3\\lib\\site-packages\\seaborn\\distributions.py:369: UserWarning: Default bandwidth for data is 0; skipping density estimation.\n",
      "  warnings.warn(msg, UserWarning)\n"
     ]
    },
    {
     "data": {
      "text/plain": [
       "<matplotlib.axes._subplots.AxesSubplot at 0x1fd18e2e3d0>"
      ]
     },
     "execution_count": 45,
     "metadata": {},
     "output_type": "execute_result"
    },
    {
     "data": {
      "image/png": "[encoded data removed]",
      "text/plain": [
       "<Figure size 432x288 with 1 Axes>"
      ]
     },
     "metadata": {
      "needs_background": "light"
     },
     "output_type": "display_data"
    }
   ],
   "source": [
    "sns.distplot(data.times30to59dayslate[data.times30to59dayslate < 10])"
   ]
  },
  {
   "cell_type": "code",
   "execution_count": 46,
   "metadata": {},
   "outputs": [
    {
     "name": "stderr",
     "output_type": "stream",
     "text": [
      "C:\\ProgramData\\Anaconda3\\lib\\site-packages\\seaborn\\distributions.py:369: UserWarning: Default bandwidth for data is 0; skipping density estimation.\n",
      "  warnings.warn(msg, UserWarning)\n"
     ]
    },
    {
     "data": {
      "text/plain": [
       "<matplotlib.axes._subplots.AxesSubplot at 0x1fd18e83910>"
      ]
     },
     "execution_count": 46,
     "metadata": {},
     "output_type": "execute_result"
    },
    {
     "data": {
      "image/png": "[encoded data removed]",
      "text/plain": [
       "<Figure size 432x288 with 1 Axes>"
      ]
     },
     "metadata": {
      "needs_background": "light"
     },
     "output_type": "display_data"
    }
   ],
   "source": [
    "sns.distplot(np.log1p(data.times30to59dayslate))"
   ]
  },
  {
   "cell_type": "markdown",
   "metadata": {},
   "source": [
    "### debtRatio               "
   ]
  },
  {
   "cell_type": "code",
   "execution_count": 69,
   "metadata": {},
   "outputs": [
    {
     "data": {
      "text/plain": [
       "<matplotlib.axes._subplots.AxesSubplot at 0x1fd1c395ee0>"
      ]
     },
     "execution_count": 69,
     "metadata": {},
     "output_type": "execute_result"
    },
    {
     "data": {
      "image/png": "[encoded data removed]",
      "text/plain": [
       "<Figure size 432x288 with 1 Axes>"
      ]
     },
     "metadata": {
      "needs_background": "light"
     },
     "output_type": "display_data"
    }
   ],
   "source": [
    "sns.distplot(data.debtRatio)"
   ]
  },
  {
   "cell_type": "code",
   "execution_count": 75,
   "metadata": {},
   "outputs": [
    {
     "data": {
      "text/plain": [
       "<matplotlib.axes._subplots.AxesSubplot at 0x1fd1c6aeb20>"
      ]
     },
     "execution_count": 75,
     "metadata": {},
     "output_type": "execute_result"
    },
    {
     "data": {
      "image/png": "[encoded data removed]",
      "text/plain": [
       "<Figure size 432x288 with 1 Axes>"
      ]
     },
     "metadata": {
      "needs_background": "light"
     },
     "output_type": "display_data"
    }
   ],
   "source": [
    "sns.distplot(data.debtRatio[data.debtRatio < 1])"
   ]
  },
  {
   "cell_type": "code",
   "execution_count": 113,
   "metadata": {},
   "outputs": [
    {
     "data": {
      "text/plain": [
       "<matplotlib.axes._subplots.AxesSubplot at 0x1fd00ebe040>"
      ]
     },
     "execution_count": 113,
     "metadata": {},
     "output_type": "execute_result"
    },
    {
     "data": {
      "image/png": "[encoded data removed]",
      "text/plain": [
       "<Figure size 432x288 with 1 Axes>"
      ]
     },
     "metadata": {
      "needs_background": "light"
     },
     "output_type": "display_data"
    }
   ],
   "source": [
    "sns.distplot(np.log1p(data.debtRatio))"
   ]
  },
  {
   "cell_type": "code",
   "execution_count": 136,
   "metadata": {},
   "outputs": [
    {
     "name": "stdout",
     "output_type": "stream",
     "text": [
      "35137\n",
      "2291\n",
      "7233\n",
      "733\n",
      "114863\n",
      "7735\n"
     ]
    }
   ],
   "source": [
    "print(data.debtRatio[data.debtRatio > 1].count())\n",
    "print(data.debtRatio[(data.debtRatio > 1) & (data.delinquent  == 1)].count())\n",
    "\n",
    "print(data.debtRatio[(data.debtRatio > 1) & (data.monthlyIncome.notnull())].count())\n",
    "print(data.debtRatio[(data.debtRatio > 1) & (data.delinquent  == 1) & (data.monthlyIncome.notnull())].count() )\n",
    "\n",
    "print(data.debtRatio[data.debtRatio <= 1].count())\n",
    "print(data.debtRatio[(data.debtRatio <= 1) & (data.delinquent  == 1)].count())"
   ]
  },
  {
   "cell_type": "code",
   "execution_count": 116,
   "metadata": {},
   "outputs": [
    {
     "name": "stdout",
     "output_type": "stream",
     "text": [
      "0.06520192389788541\n",
      "0.06734109330245597\n"
     ]
    }
   ],
   "source": [
    "print(2291/35137)\n",
    "print(7735/114863)"
   ]
  },
  {
   "cell_type": "markdown",
   "metadata": {},
   "source": [
    "### monthlyIncome    "
   ]
  },
  {
   "cell_type": "code",
   "execution_count": 137,
   "metadata": {},
   "outputs": [
    {
     "data": {
      "text/plain": [
       "<matplotlib.axes._subplots.AxesSubplot at 0x1fd00f3f9a0>"
      ]
     },
     "execution_count": 137,
     "metadata": {},
     "output_type": "execute_result"
    },
    {
     "data": {
      "image/png": "[encoded data removed]",
      "text/plain": [
       "<Figure size 432x288 with 1 Axes>"
      ]
     },
     "metadata": {
      "needs_background": "light"
     },
     "output_type": "display_data"
    }
   ],
   "source": [
    "sns.distplot(data.monthlyIncome)"
   ]
  },
  {
   "cell_type": "code",
   "execution_count": 138,
   "metadata": {},
   "outputs": [
    {
     "data": {
      "text/plain": [
       "<matplotlib.axes._subplots.AxesSubplot at 0x1fd0102c970>"
      ]
     },
     "execution_count": 138,
     "metadata": {},
     "output_type": "execute_result"
    },
    {
     "data": {
      "image/png": "[encoded data removed]",
      "text/plain": [
       "<Figure size 432x288 with 1 Axes>"
      ]
     },
     "metadata": {
      "needs_background": "light"
     },
     "output_type": "display_data"
    }
   ],
   "source": [
    "sns.distplot(data.monthlyIncome[data.monthlyIncome.notnull()])"
   ]
  },
  {
   "cell_type": "code",
   "execution_count": 53,
   "metadata": {},
   "outputs": [
    {
     "data": {
      "text/plain": [
       "<matplotlib.axes._subplots.AxesSubplot at 0x1fd1a32bd00>"
      ]
     },
     "execution_count": 53,
     "metadata": {},
     "output_type": "execute_result"
    },
    {
     "data": {
      "image/png": "[encoded data removed]",
      "text/plain": [
       "<Figure size 432x288 with 1 Axes>"
      ]
     },
     "metadata": {
      "needs_background": "light"
     },
     "output_type": "display_data"
    }
   ],
   "source": [
    "sns.distplot(np.log1p(data.monthlyIncome))"
   ]
  },
  {
   "cell_type": "markdown",
   "metadata": {},
   "source": [
    "### totalCreditLines "
   ]
  },
  {
   "cell_type": "code",
   "execution_count": 54,
   "metadata": {},
   "outputs": [
    {
     "data": {
      "text/plain": [
       "<matplotlib.axes._subplots.AxesSubplot at 0x1fd1a3b0a60>"
      ]
     },
     "execution_count": 54,
     "metadata": {},
     "output_type": "execute_result"
    },
    {
     "data": {
      "image/png": "[encoded data removed]",
      "text/plain": [
       "<Figure size 432x288 with 1 Axes>"
      ]
     },
     "metadata": {
      "needs_background": "light"
     },
     "output_type": "display_data"
    }
   ],
   "source": [
    "sns.distplot(data.totalCreditLines)"
   ]
  },
  {
   "cell_type": "code",
   "execution_count": 55,
   "metadata": {},
   "outputs": [
    {
     "data": {
      "text/plain": [
       "<matplotlib.axes._subplots.AxesSubplot at 0x1fd1a48cdc0>"
      ]
     },
     "execution_count": 55,
     "metadata": {},
     "output_type": "execute_result"
    },
    {
     "data": {
      "image/png": "[encoded data removed]",
      "text/plain": [
       "<Figure size 432x288 with 1 Axes>"
      ]
     },
     "metadata": {
      "needs_background": "light"
     },
     "output_type": "display_data"
    }
   ],
   "source": [
    "sns.distplot(np.log1p(data.totalCreditLines))"
   ]
  },
  {
   "cell_type": "markdown",
   "metadata": {},
   "source": [
    "### times90DaysLate "
   ]
  },
  {
   "cell_type": "code",
   "execution_count": 58,
   "metadata": {},
   "outputs": [
    {
     "data": {
      "text/plain": [
       "<matplotlib.axes._subplots.AxesSubplot at 0x1fd1aaa5b50>"
      ]
     },
     "execution_count": 58,
     "metadata": {},
     "output_type": "execute_result"
    },
    {
     "data": {
      "image/png": "[encoded data removed]",
      "text/plain": [
       "<Figure size 432x288 with 1 Axes>"
      ]
     },
     "metadata": {
      "needs_background": "light"
     },
     "output_type": "display_data"
    }
   ],
   "source": [
    "sns.distplot(data.times90DaysLate)"
   ]
  },
  {
   "cell_type": "code",
   "execution_count": 60,
   "metadata": {},
   "outputs": [
    {
     "name": "stderr",
     "output_type": "stream",
     "text": [
      "C:\\ProgramData\\Anaconda3\\lib\\site-packages\\seaborn\\distributions.py:369: UserWarning: Default bandwidth for data is 0; skipping density estimation.\n",
      "  warnings.warn(msg, UserWarning)\n"
     ]
    },
    {
     "data": {
      "text/plain": [
       "<matplotlib.axes._subplots.AxesSubplot at 0x1fd1a951820>"
      ]
     },
     "execution_count": 60,
     "metadata": {},
     "output_type": "execute_result"
    },
    {
     "data": {
      "image/png": "[encoded data removed]",
      "text/plain": [
       "<Figure size 432x288 with 1 Axes>"
      ]
     },
     "metadata": {
      "needs_background": "light"
     },
     "output_type": "display_data"
    }
   ],
   "source": [
    "sns.distplot(np.log1p(data.times90DaysLate))"
   ]
  },
  {
   "cell_type": "markdown",
   "metadata": {},
   "source": [
    "### realEstateLines "
   ]
  },
  {
   "cell_type": "code",
   "execution_count": 61,
   "metadata": {},
   "outputs": [
    {
     "data": {
      "text/plain": [
       "<matplotlib.axes._subplots.AxesSubplot at 0x1fd1aacdac0>"
      ]
     },
     "execution_count": 61,
     "metadata": {},
     "output_type": "execute_result"
    },
    {
     "data": {
      "image/png": "[encoded data removed]",
      "text/plain": [
       "<Figure size 432x288 with 1 Axes>"
      ]
     },
     "metadata": {
      "needs_background": "light"
     },
     "output_type": "display_data"
    }
   ],
   "source": [
    "sns.distplot(data.realEstateLines)"
   ]
  },
  {
   "cell_type": "code",
   "execution_count": 62,
   "metadata": {},
   "outputs": [
    {
     "data": {
      "text/plain": [
       "<matplotlib.axes._subplots.AxesSubplot at 0x1fd1ac20a30>"
      ]
     },
     "execution_count": 62,
     "metadata": {},
     "output_type": "execute_result"
    },
    {
     "data": {
      "image/png": "[encoded data removed]",
      "text/plain": [
       "<Figure size 432x288 with 1 Axes>"
      ]
     },
     "metadata": {
      "needs_background": "light"
     },
     "output_type": "display_data"
    }
   ],
   "source": [
    "sns.distplot(np.log1p(data.realEstateLines))"
   ]
  },
  {
   "cell_type": "markdown",
   "metadata": {},
   "source": [
    "### times60to89dayslate       "
   ]
  },
  {
   "cell_type": "code",
   "execution_count": 63,
   "metadata": {},
   "outputs": [
    {
     "name": "stderr",
     "output_type": "stream",
     "text": [
      "C:\\ProgramData\\Anaconda3\\lib\\site-packages\\seaborn\\distributions.py:369: UserWarning: Default bandwidth for data is 0; skipping density estimation.\n",
      "  warnings.warn(msg, UserWarning)\n"
     ]
    },
    {
     "data": {
      "text/plain": [
       "<matplotlib.axes._subplots.AxesSubplot at 0x1fd1ac30910>"
      ]
     },
     "execution_count": 63,
     "metadata": {},
     "output_type": "execute_result"
    },
    {
     "data": {
      "image/png": "[encoded data removed]",
      "text/plain": [
       "<Figure size 432x288 with 1 Axes>"
      ]
     },
     "metadata": {
      "needs_background": "light"
     },
     "output_type": "display_data"
    }
   ],
   "source": [
    "sns.distplot(data.times60to89dayslate)"
   ]
  },
  {
   "cell_type": "code",
   "execution_count": 64,
   "metadata": {},
   "outputs": [
    {
     "name": "stderr",
     "output_type": "stream",
     "text": [
      "C:\\ProgramData\\Anaconda3\\lib\\site-packages\\seaborn\\distributions.py:369: UserWarning: Default bandwidth for data is 0; skipping density estimation.\n",
      "  warnings.warn(msg, UserWarning)\n"
     ]
    },
    {
     "data": {
      "text/plain": [
       "<matplotlib.axes._subplots.AxesSubplot at 0x1fd1ad05a90>"
      ]
     },
     "execution_count": 64,
     "metadata": {},
     "output_type": "execute_result"
    },
    {
     "data": {
      "image/png": "[encoded data removed]",
      "text/plain": [
       "<Figure size 432x288 with 1 Axes>"
      ]
     },
     "metadata": {
      "needs_background": "light"
     },
     "output_type": "display_data"
    }
   ],
   "source": [
    "sns.distplot(np.log1p(data.times60to89dayslate))"
   ]
  },
  {
   "cell_type": "markdown",
   "metadata": {},
   "source": [
    "### dependents"
   ]
  },
  {
   "cell_type": "markdown",
   "metadata": {},
   "source": [
    "sns.distplot(data.dependents)"
   ]
  },
  {
   "cell_type": "code",
   "execution_count": 67,
   "metadata": {},
   "outputs": [
    {
     "data": {
      "text/plain": [
       "<matplotlib.axes._subplots.AxesSubplot at 0x1fd1b020280>"
      ]
     },
     "execution_count": 67,
     "metadata": {},
     "output_type": "execute_result"
    },
    {
     "data": {
      "image/png": "[encoded data removed]",
      "text/plain": [
       "<Figure size 432x288 with 1 Axes>"
      ]
     },
     "metadata": {
      "needs_background": "light"
     },
     "output_type": "display_data"
    }
   ],
   "source": [
    "sns.distplot(np.log1p(data.dependents))"
   ]
  },
  {
   "cell_type": "markdown",
   "metadata": {},
   "source": [
    "# Summary of EDA and actions per variable\n",
    "\n",
    "target (delinquent) : target has a very low postive rate, can't use accuracy as performance measure, will use ROC AUC\n",
    "\n",
    "revolveUtilUnsecured : A few outliers outside of the expected range of 0 - 1, these have a higher rate of delinquency than those that are within the range. Apply log transform to bring tail in.\n",
    "\n",
    "age : one individual younger than 18, not expected. will force this value to be equal to 18 atleast.             \n",
    "\n",
    "times30to59dayslate: very long tail, log-transformation helps this out a bit, but not a lot\n",
    "\n",
    "debtRatio: strange behaviour, expected range is 0-1, 20% of values lie above this, and only some can be explained by missing monthlyIncome values. Need to try models with and without this.\n",
    "\n",
    "monthlyIncome : many missing values, Consider imputing with avg's, and creating indicator that corresponds with missing incomes.   \n",
    "\n",
    "totalCreditLines : well populated, looks good with log transformation\n",
    "\n",
    "times90DaysLate : apply log transform, deals with tail values a bit better\n",
    "\n",
    "realEstateLines :  apply log transform, deals with tail values a bit better\n",
    "\n",
    "times60to89dayslate : apply log transform, deals with tail values a bit better\n",
    " \n",
    "dependents : a few missings, impute with 0's\n",
    "\n",
    "One-hot-encoding isn't required, since there are no categorical values."
   ]
  },
  {
   "cell_type": "markdown",
   "metadata": {},
   "source": [
    "# Apply data cleaning/transformation techniques"
   ]
  },
  {
   "cell_type": "code",
   "execution_count": 4,
   "metadata": {},
   "outputs": [
    {
     "name": "stderr",
     "output_type": "stream",
     "text": [
      "<ipython-input-4-14b9d3d7316c>:2: SettingWithCopyWarning: \n",
      "A value is trying to be set on a copy of a slice from a DataFrame\n",
      "\n",
      "See the caveats in the documentation: https://pandas.pydata.org/pandas-docs/stable/user_guide/indexing.html#returning-a-view-versus-a-copy\n",
      "  data.age[data.age < 18] = 18\n"
     ]
    }
   ],
   "source": [
    "data.revolveUtilUnsecured = np.log1p(data.revolveUtilUnsecured)\n",
    "data.age[data.age < 18] = 18\n",
    "data.times30to59dayslate = np.log1p(data.times30to59dayslate)\n",
    "\n",
    "data.loc[data.monthlyIncome.isnull(), 'incomeNullInd'] = 1\n",
    "data.incomeNullInd = data.incomeNullInd.fillna(0).astype(int)\n",
    "\n",
    "incomeAvg = data.monthlyIncome.mean()\n",
    "\n",
    "data.monthlyIncome.fillna(data.monthlyIncome.mean(), inplace = True)\n",
    "\n",
    "data.totalCreditLines = np.log1p(data.totalCreditLines)\n",
    "data.times90DaysLate = np.log1p(data.times90DaysLate)\n",
    "data.realEstateLines = np.log1p(data.realEstateLines)\n",
    "data.times60to89dayslate = np.log1p(data.times60to89dayslate)\n",
    "data.dependents.fillna(0,inplace = True)"
   ]
  },
  {
   "cell_type": "markdown",
   "metadata": {},
   "source": [
    "# Train / Validation split\n",
    "\n",
    "Train: 60%\n",
    "Validation: 20%\n",
    "Test: 20%"
   ]
  },
  {
   "cell_type": "code",
   "execution_count": 5,
   "metadata": {},
   "outputs": [],
   "source": [
    "df_full_train, df_test = train_test_split(data, test_size=0.20, random_state=42)\n",
    "df_train, df_valid = train_test_split(df_full_train, test_size = 0.25, random_state = 42)\n",
    "\n",
    "x_train = df_train\n",
    "x_valid = df_valid\n",
    "x_test = df_test\n",
    "x_full_train = df_full_train\n",
    "\n",
    "y_train = x_train.delinquent.values\n",
    "y_valid = x_valid.delinquent.values\n",
    "y_test = x_test.delinquent.values\n",
    "y_full_train = x_full_train.delinquent.values\n",
    "\n",
    "del x_train['delinquent']\n",
    "del x_valid['delinquent']\n",
    "del x_test['delinquent']\n",
    "del x_full_train['delinquent']"
   ]
  },
  {
   "cell_type": "markdown",
   "metadata": {},
   "source": [
    "# Model Training\n",
    "\n",
    "Feature importance:\n",
    "    - mutual Information\n",
    "    - ROC AUC as feature importance\n",
    "\n",
    "Models to try: \n",
    "    - logistic regression\n",
    "    - decision tree\n",
    "    - random forest\n",
    "    - XGBoost"
   ]
  },
  {
   "cell_type": "markdown",
   "metadata": {},
   "source": [
    "### Mutual information"
   ]
  },
  {
   "cell_type": "code",
   "execution_count": 12,
   "metadata": {},
   "outputs": [
    {
     "name": "stdout",
     "output_type": "stream",
     "text": [
      "feature: revolveUtilUnsecured, \t\t\t mis: 0.2004938662447785\n",
      "feature: age, \t\t\t mis: 0.007955303108460845\n",
      "feature: times30to59dayslate, \t\t\t mis: 0.026206465093920113\n",
      "feature: debtRatio, \t\t\t mis: 0.20872521455675078\n",
      "feature: monthlyIncome, \t\t\t mis: 0.04443906307288883\n",
      "feature: totalCreditLines, \t\t\t mis: 0.003867059350686132\n",
      "feature: times90DaysLate, \t\t\t mis: 0.031042469191382246\n",
      "feature: realEstateLines, \t\t\t mis: 0.002092341926438132\n",
      "feature: times60to89dayslate, \t\t\t mis: 0.02151475091008439\n",
      "feature: dependents, \t\t\t mis: 0.001111825501385698\n",
      "feature: incomeNullInd, \t\t\t mis: 0.00027616249725819636\n"
     ]
    }
   ],
   "source": [
    "features = x_train.columns\n",
    "for f in features:\n",
    "    mis = mutual_info_score(y_train, x_train[f])\n",
    "    print(f'feature: {f}, \\t\\t\\t mis: {mis}')\n",
    "    "
   ]
  },
  {
   "cell_type": "markdown",
   "metadata": {},
   "source": [
    "### ROC AUC Score"
   ]
  },
  {
   "cell_type": "code",
   "execution_count": 14,
   "metadata": {},
   "outputs": [
    {
     "name": "stdout",
     "output_type": "stream",
     "text": [
      "feature: revolveUtilUnsecured, \t\t\t mis: 0.7763436702513091\n",
      "feature: age, \t\t\t mis: 0.6350074120941938\n",
      "feature: times30to59dayslate, \t\t\t mis: 0.6889558899150989\n",
      "feature: debtRatio, \t\t\t mis: 0.521796300323472\n",
      "feature: monthlyIncome, \t\t\t mis: 0.5722455554132079\n",
      "feature: totalCreditLines, \t\t\t mis: 0.5412376336894031\n",
      "feature: times90DaysLate, \t\t\t mis: 0.6539472229064835\n",
      "feature: realEstateLines, \t\t\t mis: 0.536940038736072\n",
      "feature: times60to89dayslate, \t\t\t mis: 0.6204654959759373\n",
      "feature: dependents, \t\t\t mis: 0.5476923398777543\n",
      "feature: incomeNullInd, \t\t\t mis: 0.5183669733840621\n"
     ]
    }
   ],
   "source": [
    "features = x_train.columns\n",
    "for f in features:\n",
    "    auc = roc_auc_score(y_train, x_train[f])\n",
    "    if auc < 0.5:\n",
    "        auc = roc_auc_score(y_train, -x_train[f])\n",
    "    print(f'feature: {f}, \\t\\t\\t mis: {auc}')"
   ]
  },
  {
   "cell_type": "markdown",
   "metadata": {},
   "source": [
    "## Logistic Regression\n",
    "\n",
    "Try features in this order:\n",
    "    - revolveUtilUnsecured\n",
    "    - monthlyincome\n",
    "    - age\n",
    "    - times30to59dayslate\n",
    "    - times60to89dayslate\n",
    "    - times90DaysLate\n",
    "    - debtRatio\n",
    "    - dependents\n",
    "    - monthlyIncome\n",
    "    - totalCreditLines\n",
    "    - incomeNullInd\n",
    "    "
   ]
  },
  {
   "cell_type": "code",
   "execution_count": 6,
   "metadata": {},
   "outputs": [
    {
     "name": "stdout",
     "output_type": "stream",
     "text": [
      "['revolveUtilUnsecured']\n",
      "0.7780597158605955\n",
      "****************************************************\n",
      "['revolveUtilUnsecured', 'times30to59dayslate']\n",
      "0.813125760129973\n",
      "****************************************************\n",
      "['revolveUtilUnsecured', 'times30to59dayslate', 'times60to89dayslate']\n",
      "0.8287683035975615\n",
      "****************************************************\n",
      "['revolveUtilUnsecured', 'times30to59dayslate', 'times60to89dayslate', 'times90DaysLate']\n",
      "0.8500054880047981\n",
      "****************************************************\n",
      "['revolveUtilUnsecured', 'times30to59dayslate', 'times60to89dayslate', 'times90DaysLate', 'incomeNullInd']\n",
      "0.8476385890748446\n",
      "****************************************************\n",
      "['revolveUtilUnsecured', 'times30to59dayslate', 'times60to89dayslate', 'times90DaysLate', 'incomeNullInd', 'debtRatio']\n",
      "0.8468711548144208\n",
      "****************************************************\n",
      "['revolveUtilUnsecured', 'times30to59dayslate', 'times60to89dayslate', 'times90DaysLate', 'incomeNullInd', 'debtRatio', 'dependents']\n",
      "0.8454746439117942\n",
      "****************************************************\n",
      "['revolveUtilUnsecured', 'times30to59dayslate', 'times60to89dayslate', 'times90DaysLate', 'incomeNullInd', 'debtRatio', 'dependents', 'monthlyIncome']\n",
      "0.8382659426367267\n",
      "****************************************************\n"
     ]
    },
    {
     "name": "stderr",
     "output_type": "stream",
     "text": [
      "C:\\ProgramData\\Anaconda3\\lib\\site-packages\\sklearn\\linear_model\\_logistic.py:762: ConvergenceWarning: lbfgs failed to converge (status=1):\n",
      "STOP: TOTAL NO. of ITERATIONS REACHED LIMIT.\n",
      "\n",
      "Increase the number of iterations (max_iter) or scale the data as shown in:\n",
      "    https://scikit-learn.org/stable/modules/preprocessing.html\n",
      "Please also refer to the documentation for alternative solver options:\n",
      "    https://scikit-learn.org/stable/modules/linear_model.html#logistic-regression\n",
      "  n_iter_i = _check_optimize_result(\n"
     ]
    },
    {
     "name": "stdout",
     "output_type": "stream",
     "text": [
      "['revolveUtilUnsecured', 'times30to59dayslate', 'times60to89dayslate', 'times90DaysLate', 'incomeNullInd', 'debtRatio', 'dependents', 'monthlyIncome', 'totalCreditLines']\n",
      "0.7903027170365621\n",
      "****************************************************\n"
     ]
    },
    {
     "data": {
      "text/plain": [
       "LogisticRegression()"
      ]
     },
     "execution_count": 6,
     "metadata": {},
     "output_type": "execute_result"
    }
   ],
   "source": [
    "#features = ['revolveUtilUnsecured','monthlyIncome','age','times30to59dayslate','times60to89dayslate','times90DaysLate','debtRatio','dependents','monthlyIncome','totalCreditLines','incomeNullInd']\n",
    "features = ['revolveUtilUnsecured','times30to59dayslate','times60to89dayslate','times90DaysLate','incomeNullInd','debtRatio','dependents','monthlyIncome','totalCreditLines']\n",
    "list = []\n",
    "\n",
    "for f in features:\n",
    "    list.append(f)\n",
    "    \n",
    "    model = LogisticRegression()\n",
    "    model.fit(x_train[list], y_train)\n",
    "      \n",
    "    preds = model.predict_proba(x_valid[list])[:,1]\n",
    "    \n",
    "    auc = roc_auc_score(y_valid, preds)\n",
    "    print(list)\n",
    "    print(auc)\n",
    "    print('****************************************************')\n",
    "    \n",
    "finalLogisticReg = LogisticRegression()\n",
    "finalLogisticReg.fit(x_full_train[['revolveUtilUnsecured', 'times30to59dayslate', 'times60to89dayslate', 'times90DaysLate']], y_full_train)"
   ]
  },
  {
   "cell_type": "markdown",
   "metadata": {},
   "source": [
    "## Decision Tree\n",
    "\n",
    "Parameters to tune: \n",
    "    - Max depth\n",
    "    - Min Samples Leaf"
   ]
  },
  {
   "cell_type": "code",
   "execution_count": 72,
   "metadata": {},
   "outputs": [],
   "source": [
    "scores = []\n",
    "for depth_ in [2,3,4,5,6,7,8,9,10]:\n",
    "    for sample_ in [10,50,100,250,500,1000,1500,3000,4500]:\n",
    "        model =  DecisionTreeClassifier(max_depth = depth_, min_samples_leaf = sample_, random_state = 42)\n",
    "        model.fit(x_train, y_train)\n",
    "        preds = model.predict_proba(x_valid)[:,1]\n",
    "        auc = roc_auc_score(y_valid, preds)\n",
    "        scores.append((depth_, sample_, auc))"
   ]
  },
  {
   "cell_type": "code",
   "execution_count": 73,
   "metadata": {},
   "outputs": [
    {
     "name": "stdout",
     "output_type": "stream",
     "text": [
      "                    auc                                                   \\\n",
      "max_depth            2      3      4      5      6      7      8      9    \n",
      "min_samples_leaf                                                           \n",
      "10                0.782  0.821  0.834  0.851  0.854  0.854  0.848  0.840   \n",
      "50                0.782  0.821  0.834  0.851  0.854  0.858  0.857  0.857   \n",
      "100               0.782  0.821  0.834  0.851  0.854  0.859  0.858  0.857   \n",
      "250               0.782  0.821  0.834  0.851  0.855  0.858  0.860  0.858   \n",
      "500               0.782  0.821  0.834  0.851  0.855  0.859  0.862  0.862   \n",
      "1000              0.782  0.821  0.842  0.846  0.850  0.852  0.853  0.854   \n",
      "1500              0.782  0.821  0.842  0.847  0.851  0.852  0.854  0.854   \n",
      "3000              0.780  0.819  0.838  0.843  0.846  0.848  0.849  0.849   \n",
      "4500              0.780  0.819  0.837  0.842  0.845  0.846  0.846  0.846   \n",
      "\n",
      "                         \n",
      "max_depth            10  \n",
      "min_samples_leaf         \n",
      "10                0.830  \n",
      "50                0.850  \n",
      "100               0.856  \n",
      "250               0.858  \n",
      "500               0.862  \n",
      "1000              0.854  \n",
      "1500              0.855  \n",
      "3000              0.849  \n",
      "4500              0.846  \n"
     ]
    },
    {
     "data": {
      "text/plain": [
       "<matplotlib.axes._subplots.AxesSubplot at 0x20da95f6cd0>"
      ]
     },
     "execution_count": 73,
     "metadata": {},
     "output_type": "execute_result"
    },
    {
     "data": {
      "image/png": "[encoded data removed]",
      "text/plain": [
       "<Figure size 432x288 with 2 Axes>"
      ]
     },
     "metadata": {
      "needs_background": "light"
     },
     "output_type": "display_data"
    }
   ],
   "source": [
    "columns = ['max_depth', 'min_samples_leaf', 'auc']\n",
    "df_scores = pd.DataFrame(scores, columns = columns)\n",
    "\n",
    "df_scores_pivot = df_scores.pivot(index='min_samples_leaf', columns='max_depth', values=['auc'])\n",
    "print(df_scores_pivot.round(3))\n",
    "sns.heatmap(df_scores_pivot, annot=True, fmt=\".3f\")"
   ]
  },
  {
   "cell_type": "code",
   "execution_count": 7,
   "metadata": {},
   "outputs": [
    {
     "data": {
      "text/plain": [
       "DecisionTreeClassifier(max_depth=8, min_samples_leaf=500, random_state=42)"
      ]
     },
     "execution_count": 7,
     "metadata": {},
     "output_type": "execute_result"
    }
   ],
   "source": [
    "finalDeicisionTree = DecisionTreeClassifier(max_depth = 8, min_samples_leaf = 500, random_state = 42)\n",
    "finalDeicisionTree.fit(x_full_train, y_full_train)"
   ]
  },
  {
   "cell_type": "markdown",
   "metadata": {},
   "source": [
    "## Random Forest\n",
    "\n",
    "Parameters to tune: \n",
    "    - n_estimators\n",
    "    - Max depth\n",
    "    - Min Samples Leaf"
   ]
  },
  {
   "cell_type": "code",
   "execution_count": null,
   "metadata": {},
   "outputs": [],
   "source": [
    "forestscores = []\n",
    "for estimators_ in [10,20,50,100,200,500]:\n",
    "    for depth_ in [2,3,4,5,6,7,8,9,10]:\n",
    "        for samples_ in [10,50,100,250,500,1000,1500]:\n",
    "            model =  RandomForestClassifier(n_estimators = estimators_, max_depth = depth_, min_samples_leaf = samples_, random_state = 42)\n",
    "            model.fit(x_train, y_train)\n",
    "            preds = model.predict_proba(x_valid)[:,1]\n",
    "            auc = roc_auc_score(y_valid, preds)\n",
    "            forestscores.append((estimators, depth_, samples_, auc))\n",
    "            "
   ]
  },
  {
   "cell_type": "code",
   "execution_count": 115,
   "metadata": {},
   "outputs": [
    {
     "name": "stdout",
     "output_type": "stream",
     "text": [
      "*************** 1 forests completed ***************\n",
      "*************** 2 forests completed ***************\n",
      "*************** 3 forests completed ***************\n",
      "*************** 4 forests completed ***************\n",
      "*************** 5 forests completed ***************\n",
      "*************** 6 forests completed ***************\n",
      "*************** 7 forests completed ***************\n",
      "*************** 8 forests completed ***************\n",
      "*************** 9 forests completed ***************\n",
      "*************** 10 forests completed ***************\n",
      "*************** 11 forests completed ***************\n",
      "*************** 12 forests completed ***************\n",
      "*************** 13 forests completed ***************\n",
      "*************** 14 forests completed ***************\n",
      "*************** 15 forests completed ***************\n",
      "*************** 16 forests completed ***************\n",
      "*************** 17 forests completed ***************\n",
      "*************** 18 forests completed ***************\n",
      "*************** 19 forests completed ***************\n",
      "*************** 20 forests completed ***************\n",
      "*************** 21 forests completed ***************\n",
      "*************** 22 forests completed ***************\n",
      "*************** 23 forests completed ***************\n",
      "*************** 24 forests completed ***************\n",
      "*************** 25 forests completed ***************\n",
      "*************** 26 forests completed ***************\n",
      "*************** 27 forests completed ***************\n",
      "*************** 28 forests completed ***************\n",
      "*************** 29 forests completed ***************\n",
      "*************** 30 forests completed ***************\n",
      "*************** 31 forests completed ***************\n",
      "*************** 32 forests completed ***************\n",
      "*************** 33 forests completed ***************\n",
      "*************** 34 forests completed ***************\n",
      "*************** 35 forests completed ***************\n",
      "*************** 36 forests completed ***************\n",
      "*************** 37 forests completed ***************\n",
      "*************** 38 forests completed ***************\n",
      "*************** 39 forests completed ***************\n",
      "*************** 40 forests completed ***************\n",
      "*************** 41 forests completed ***************\n",
      "*************** 42 forests completed ***************\n",
      "*************** 43 forests completed ***************\n",
      "*************** 44 forests completed ***************\n",
      "*************** 45 forests completed ***************\n",
      "*************** 46 forests completed ***************\n",
      "*************** 47 forests completed ***************\n",
      "*************** 48 forests completed ***************\n",
      "*************** 49 forests completed ***************\n"
     ]
    }
   ],
   "source": [
    "forestscores = []\n",
    "counter = 1\n",
    "for depth_ in [4,5,6,7,8,9,10]:\n",
    "    for samples_ in [10,50,100,250,500,1000,1500]:\n",
    "        model =  RandomForestClassifier(n_estimators = 10, max_depth = depth_, min_samples_leaf = samples_, random_state = 42)\n",
    "        model.fit(x_train, y_train)\n",
    "        preds = model.predict_proba(x_valid)[:,1]\n",
    "        auc = roc_auc_score(y_valid, preds)\n",
    "        forestscores.append((depth_, samples_, auc))\n",
    "        print(f'*************** {counter} forests completed ***************')\n",
    "        counter = counter +1\n",
    "            \n",
    " "
   ]
  },
  {
   "cell_type": "code",
   "execution_count": 116,
   "metadata": {},
   "outputs": [
    {
     "name": "stdout",
     "output_type": "stream",
     "text": [
      "                    auc                                          \n",
      "max_depth            4      5      6      7      8      9      10\n",
      "min_samples_leaf                                                 \n",
      "10                0.859  0.862  0.865  0.866  0.866  0.869  0.867\n",
      "50                0.859  0.862  0.864  0.866  0.867  0.868  0.868\n",
      "100               0.859  0.862  0.866  0.867  0.866  0.868  0.870\n",
      "250               0.859  0.862  0.865  0.864  0.866  0.868  0.868\n",
      "500               0.860  0.862  0.864  0.864  0.866  0.867  0.868\n",
      "1000              0.860  0.861  0.864  0.864  0.863  0.865  0.866\n",
      "1500              0.860  0.859  0.862  0.862  0.862  0.863  0.862\n"
     ]
    },
    {
     "data": {
      "text/plain": [
       "<matplotlib.axes._subplots.AxesSubplot at 0x20daa7e8220>"
      ]
     },
     "execution_count": 116,
     "metadata": {},
     "output_type": "execute_result"
    },
    {
     "data": {
      "image/png": "[encoded data removed]",
      "text/plain": [
       "<Figure size 432x288 with 2 Axes>"
      ]
     },
     "metadata": {
      "needs_background": "light"
     },
     "output_type": "display_data"
    }
   ],
   "source": [
    "columns = ['max_depth', 'min_samples_leaf', 'auc']\n",
    "df_forestscores = pd.DataFrame(forestscores, columns = columns)\n",
    "\n",
    "df_forestscores_pivot = df_forestscores.pivot(index='min_samples_leaf', columns='max_depth', values=['auc'])\n",
    "print(df_forestscores_pivot.round(3))\n",
    "sns.heatmap(df_forestscores_pivot, annot=True, fmt=\".3f\")"
   ]
  },
  {
   "cell_type": "code",
   "execution_count": 110,
   "metadata": {},
   "outputs": [
    {
     "name": "stdout",
     "output_type": "stream",
     "text": [
      "*************** 1 forests completed ***************\n",
      "*************** 2 forests completed ***************\n",
      "*************** 3 forests completed ***************\n",
      "*************** 4 forests completed ***************\n",
      "*************** 5 forests completed ***************\n",
      "*************** 6 forests completed ***************\n",
      "*************** 7 forests completed ***************\n",
      "*************** 8 forests completed ***************\n",
      "*************** 9 forests completed ***************\n",
      "*************** 10 forests completed ***************\n",
      "*************** 11 forests completed ***************\n",
      "*************** 12 forests completed ***************\n",
      "*************** 13 forests completed ***************\n",
      "*************** 14 forests completed ***************\n",
      "              auc                                                          \\\n",
      "max_depth      2      3      4      5      6      7      8      9      10   \n",
      "estimators                                                                  \n",
      "10          0.854  0.855  0.859  0.862  0.865  0.864  0.866  0.868  0.868   \n",
      "\n",
      "                                               \n",
      "max_depth      11     12     13     14     15  \n",
      "estimators                                     \n",
      "10          0.868  0.867  0.868  0.869  0.869  \n"
     ]
    },
    {
     "data": {
      "text/plain": [
       "<matplotlib.axes._subplots.AxesSubplot at 0x20daa75adf0>"
      ]
     },
     "execution_count": 110,
     "metadata": {},
     "output_type": "execute_result"
    },
    {
     "data": {
      "image/png": "[encoded data removed]",
      "text/plain": [
       "<Figure size 432x288 with 2 Axes>"
      ]
     },
     "metadata": {
      "needs_background": "light"
     },
     "output_type": "display_data"
    }
   ],
   "source": [
    "forestscores = []\n",
    "counter = 1\n",
    "for estimators_ in [10]:\n",
    "    for depth_ in [2,3,4,5,6,7,8,9,10,11,12,13,14,15]:\n",
    "        model =  RandomForestClassifier(n_estimators = estimators_, max_depth = depth_, min_samples_leaf = 250 , random_state = 42)\n",
    "        model.fit(x_train, y_train)\n",
    "        preds = model.predict_proba(x_valid)[:,1]\n",
    "        auc = roc_auc_score(y_valid, preds)\n",
    "        forestscores.append((estimators_, depth_, auc))\n",
    "        print(f'*************** {counter} forests completed ***************')\n",
    "        counter = counter +1\n",
    "        \n",
    "columns = ['estimators', 'max_depth', 'auc']\n",
    "df_forestscores = pd.DataFrame(forestscores, columns = columns)\n",
    "\n",
    "df_forestscores_pivot = df_forestscores.pivot(index='estimators', columns='max_depth', values=['auc'])\n",
    "print(df_forestscores_pivot.round(3))\n",
    "sns.heatmap(df_forestscores_pivot, annot=True, fmt=\".3f\")            "
   ]
  },
  {
   "cell_type": "code",
   "execution_count": null,
   "metadata": {},
   "outputs": [],
   "source": [
    "forestscores = []\n",
    "counter = 1\n",
    "for estimators_ in [10,50,100,250]:\n",
    "    for depth_ in [9]:\n",
    "        model =  RandomForestClassifier(n_estimators = estimators_, max_depth = depth_, min_samples_leaf = 250 , random_state = 42)\n",
    "        model.fit(x_train, y_train)\n",
    "        preds = model.predict_proba(x_valid)[:,1]\n",
    "        auc = roc_auc_score(y_valid, preds)\n",
    "        forestscores.append((estimators_, depth_, auc))\n",
    "        print(f'*************** {counter} forests completed ***************')\n",
    "        counter = counter +1\n",
    "        \n",
    "columns = ['estimators', 'max_depth', 'auc']\n",
    "df_forestscores = pd.DataFrame(forestscores, columns = columns)\n",
    "\n",
    "df_forestscores_pivot = df_forestscores.pivot(index='estimators', columns='max_depth', values=['auc'])\n",
    "print(df_forestscores_pivot.round(3))\n",
    "sns.heatmap(df_forestscores_pivot, annot=True, fmt=\".3f\")   "
   ]
  },
  {
   "cell_type": "code",
   "execution_count": 8,
   "metadata": {},
   "outputs": [
    {
     "data": {
      "text/plain": [
       "RandomForestClassifier(max_depth=9, min_samples_leaf=100, n_estimators=50,\n",
       "                       random_state=42)"
      ]
     },
     "execution_count": 8,
     "metadata": {},
     "output_type": "execute_result"
    }
   ],
   "source": [
    "finalRandomForest = RandomForestClassifier(n_estimators = 50,max_depth = 9, min_samples_leaf = 100, random_state = 42)\n",
    "finalRandomForest.fit(x_full_train, y_full_train)    "
   ]
  },
  {
   "cell_type": "markdown",
   "metadata": {},
   "source": [
    "## XGBoost\n",
    "\n",
    "Parameters to tune: \n",
    "    - eta\n",
    "    - max depth\n",
    "    - min child weight"
   ]
  },
  {
   "cell_type": "code",
   "execution_count": 18,
   "metadata": {},
   "outputs": [],
   "source": [
    "features = x_train.columns\n",
    "dtrain = xgb.DMatrix(x_train, label=y_train, feature_names=features)\n",
    "dval = xgb.DMatrix(x_valid, label=y_valid, feature_names=features)\n",
    "dfullTrainval = xgb.DMatrix(x_full_train, label=y_full_train, feature_names=features)\n",
    "dTest = xgb.DMatrix(x_test, label = y_test, feature_names = features)"
   ]
  },
  {
   "cell_type": "code",
   "execution_count": 11,
   "metadata": {},
   "outputs": [],
   "source": [
    "%%capture output\n",
    "scores = {}\n",
    "\n",
    "xgb_params = {\n",
    "    'eta': 0.01, \n",
    "    'max_depth': 6,\n",
    "    'min_child_weight': 1,\n",
    "    \n",
    "    'objective': 'binary:logistic',\n",
    "    'eval_metric': 'auc',\n",
    "\n",
    "    'nthread': 8,\n",
    "    'seed': 1,\n",
    "    'verbosity': 1,\n",
    "}\n",
    "\n",
    "watchlist = [(dtrain, 'train'), (dval, 'val')]\n",
    "\n",
    "def parse_xgb_output(output):\n",
    "    results = []\n",
    "\n",
    "    for line in output.stdout.strip().split('\\n'):\n",
    "        it_line, train_line, val_line = line.split('\\t')\n",
    "\n",
    "        it = int(it_line.strip('[]'))\n",
    "        train = float(train_line.split(':')[1])\n",
    "        val = float(val_line.split(':')[1])\n",
    "\n",
    "        results.append((it, train, val))\n",
    "    \n",
    "    columns = ['num_iter', 'train_auc', 'val_auc']\n",
    "    df_results = pd.DataFrame(results, columns=columns)\n",
    "    return df_results\n",
    "\n"
   ]
  },
  {
   "cell_type": "markdown",
   "metadata": {},
   "source": [
    "###  eta"
   ]
  },
  {
   "cell_type": "code",
   "execution_count": null,
   "metadata": {},
   "outputs": [],
   "source": [
    "scores = {}"
   ]
  },
  {
   "cell_type": "code",
   "execution_count": null,
   "metadata": {},
   "outputs": [],
   "source": [
    "%%capture output\n",
    "xgb_params = {\n",
    "    'eta': 0.01, #try values: 0.01, 0.05, 0.1, 0.3, 1\n",
    "    'max_depth': 6,\n",
    "    'min_child_weight': 1,\n",
    "    \n",
    "    'objective': 'binary:logistic',\n",
    "    'eval_metric': 'auc',\n",
    "\n",
    "    'nthread': 8,\n",
    "    'seed': 1,\n",
    "    'verbosity': 1,\n",
    "}\n",
    "model = xgb.train(xgb_params, dtrain, num_boost_round=200,\n",
    "                  verbose_eval=5,\n",
    "                  evals=watchlist)\n",
    "key = 'eta=%s' % (xgb_params['eta'])\n",
    "scores[key] = parse_xgb_output(output)"
   ]
  },
  {
   "cell_type": "code",
   "execution_count": 161,
   "metadata": {},
   "outputs": [],
   "source": [
    "%%capture output\n",
    "xgb_params = {\n",
    "    'eta': 0.05, #try values: 0.01, 0.05, 0.1, 0.3, 1\n",
    "    'max_depth': 6,\n",
    "    'min_child_weight': 1,\n",
    "    \n",
    "    'objective': 'binary:logistic',\n",
    "    'eval_metric': 'auc',\n",
    "\n",
    "    'nthread': 8,\n",
    "    'seed': 1,\n",
    "    'verbosity': 1,\n",
    "}\n",
    "model = xgb.train(xgb_params, dtrain, num_boost_round=200,\n",
    "                  verbose_eval=5,\n",
    "                  evals=watchlist)\n",
    "key = 'eta=%s' % (xgb_params['eta'])\n",
    "scores[key] = parse_xgb_output(output)"
   ]
  },
  {
   "cell_type": "code",
   "execution_count": 162,
   "metadata": {},
   "outputs": [],
   "source": [
    "%%capture output\n",
    "xgb_params = {\n",
    "    'eta': 0.1, #try values: 0.01, 0.05, 0.1, 0.3, 1\n",
    "    'max_depth': 6,\n",
    "    'min_child_weight': 1,\n",
    "    \n",
    "    'objective': 'binary:logistic',\n",
    "    'eval_metric': 'auc',\n",
    "\n",
    "    'nthread': 8,\n",
    "    'seed': 1,\n",
    "    'verbosity': 1,\n",
    "}\n",
    "model = xgb.train(xgb_params, dtrain, num_boost_round=200,\n",
    "                  verbose_eval=5,\n",
    "                  evals=watchlist)\n",
    "key = 'eta=%s' % (xgb_params['eta'])\n",
    "scores[key] = parse_xgb_output(output)"
   ]
  },
  {
   "cell_type": "code",
   "execution_count": 163,
   "metadata": {},
   "outputs": [],
   "source": [
    "%%capture output\n",
    "xgb_params = {\n",
    "    'eta': 0.3, #try values: 0.01, 0.05, 0.1, 0.3, 1\n",
    "    'max_depth': 6,\n",
    "    'min_child_weight': 1,\n",
    "    \n",
    "    'objective': 'binary:logistic',\n",
    "    'eval_metric': 'auc',\n",
    "\n",
    "    'nthread': 8,\n",
    "    'seed': 1,\n",
    "    'verbosity': 1,\n",
    "}\n",
    "model = xgb.train(xgb_params, dtrain, num_boost_round=200,\n",
    "                  verbose_eval=5,\n",
    "                  evals=watchlist)\n",
    "key = 'eta=%s' % (xgb_params['eta'])\n",
    "scores[key] = parse_xgb_output(output)"
   ]
  },
  {
   "cell_type": "code",
   "execution_count": null,
   "metadata": {},
   "outputs": [],
   "source": [
    "%%capture output\n",
    "xgb_params = {\n",
    "    'eta': 1.0, #try values: 0.01, 0.05, 0.1, 0.3, 1\n",
    "    'max_depth': 6,\n",
    "    'min_child_weight': 1,\n",
    "    \n",
    "    'objective': 'binary:logistic',\n",
    "    'eval_metric': 'auc',\n",
    "\n",
    "    'nthread': 8,\n",
    "    'seed': 1,\n",
    "    'verbosity': 1,\n",
    "}\n",
    "model = xgb.train(xgb_params, dtrain, num_boost_round=200,\n",
    "                  verbose_eval=5,\n",
    "                  evals=watchlist)\n",
    "key = 'eta=%s' % (xgb_params['eta'])\n",
    "scores[key] = parse_xgb_output(output)"
   ]
  },
  {
   "cell_type": "code",
   "execution_count": 176,
   "metadata": {},
   "outputs": [
    {
     "data": {
      "text/plain": [
       "<matplotlib.legend.Legend at 0x20daac84220>"
      ]
     },
     "execution_count": 176,
     "metadata": {},
     "output_type": "execute_result"
    },
    {
     "data": {
      "image/png": "[encoded data removed]",
      "text/plain": [
       "<Figure size 432x288 with 1 Axes>"
      ]
     },
     "metadata": {
      "needs_background": "light"
     },
     "output_type": "display_data"
    }
   ],
   "source": [
    "for max_depth, df_score in scores.items():\n",
    "    plt.plot(df_score.num_iter, df_score.val_auc, label=max_depth)\n",
    "\n",
    "#plt.ylim(0.84, 0.88)\n",
    "plt.legend()\n"
   ]
  },
  {
   "cell_type": "markdown",
   "metadata": {},
   "source": [
    "###  max_depth"
   ]
  },
  {
   "cell_type": "code",
   "execution_count": 178,
   "metadata": {},
   "outputs": [],
   "source": [
    "scoresDepth = {}"
   ]
  },
  {
   "cell_type": "code",
   "execution_count": 179,
   "metadata": {},
   "outputs": [],
   "source": [
    "%%capture output\n",
    "xgb_params = {\n",
    "    'eta': 0.3, #try values: 0.01, 0.05, 0.1, 0.3, 1\n",
    "    'max_depth': 2,\n",
    "    'min_child_weight': 1,\n",
    "    \n",
    "    'objective': 'binary:logistic',\n",
    "    'eval_metric': 'auc',\n",
    "\n",
    "    'nthread': 8,\n",
    "    'seed': 1,\n",
    "    'verbosity': 1,\n",
    "}\n",
    "model = xgb.train(xgb_params, dtrain, num_boost_round=200,\n",
    "                  verbose_eval=5,\n",
    "                  evals=watchlist)\n",
    "key = 'max_depth=%s' % (xgb_params['max_depth'])\n",
    "scoresDepth[key] = parse_xgb_output(output)"
   ]
  },
  {
   "cell_type": "code",
   "execution_count": 180,
   "metadata": {},
   "outputs": [],
   "source": [
    "%%capture output\n",
    "xgb_params = {\n",
    "    'eta': 0.3, #try values: 0.01, 0.05, 0.1, 0.3, 1\n",
    "    'max_depth': 4,\n",
    "    'min_child_weight': 1,\n",
    "    \n",
    "    'objective': 'binary:logistic',\n",
    "    'eval_metric': 'auc',\n",
    "\n",
    "    'nthread': 8,\n",
    "    'seed': 1,\n",
    "    'verbosity': 1,\n",
    "}\n",
    "model = xgb.train(xgb_params, dtrain, num_boost_round=200,\n",
    "                  verbose_eval=5,\n",
    "                  evals=watchlist)\n",
    "key = 'max_depth=%s' % (xgb_params['max_depth'])\n",
    "scoresDepth[key] = parse_xgb_output(output)"
   ]
  },
  {
   "cell_type": "code",
   "execution_count": 181,
   "metadata": {},
   "outputs": [],
   "source": [
    "%%capture output\n",
    "xgb_params = {\n",
    "    'eta': 0.3, #try values: 0.01, 0.05, 0.1, 0.3, 1\n",
    "    'max_depth': 6,\n",
    "    'min_child_weight': 1,\n",
    "    \n",
    "    'objective': 'binary:logistic',\n",
    "    'eval_metric': 'auc',\n",
    "\n",
    "    'nthread': 8,\n",
    "    'seed': 1,\n",
    "    'verbosity': 1,\n",
    "}\n",
    "model = xgb.train(xgb_params, dtrain, num_boost_round=200,\n",
    "                  verbose_eval=5,\n",
    "                  evals=watchlist)\n",
    "key = 'max_depth=%s' % (xgb_params['max_depth'])\n",
    "scoresDepth[key] = parse_xgb_output(output)"
   ]
  },
  {
   "cell_type": "code",
   "execution_count": 182,
   "metadata": {},
   "outputs": [],
   "source": [
    "%%capture output\n",
    "xgb_params = {\n",
    "    'eta': 0.3, #try values: 0.01, 0.05, 0.1, 0.3, 1\n",
    "    'max_depth': 8,\n",
    "    'min_child_weight': 1,\n",
    "    \n",
    "    'objective': 'binary:logistic',\n",
    "    'eval_metric': 'auc',\n",
    "\n",
    "    'nthread': 8,\n",
    "    'seed': 1,\n",
    "    'verbosity': 1,\n",
    "}\n",
    "model = xgb.train(xgb_params, dtrain, num_boost_round=200,\n",
    "                  verbose_eval=5,\n",
    "                  evals=watchlist)\n",
    "key = 'max_depth=%s' % (xgb_params['max_depth'])\n",
    "scoresDepth[key] = parse_xgb_output(output)"
   ]
  },
  {
   "cell_type": "code",
   "execution_count": 183,
   "metadata": {},
   "outputs": [],
   "source": [
    "%%capture output\n",
    "xgb_params = {\n",
    "    'eta': 0.3, #try values: 0.01, 0.05, 0.1, 0.3, 1\n",
    "    'max_depth': 10,\n",
    "    'min_child_weight': 1,\n",
    "    \n",
    "    'objective': 'binary:logistic',\n",
    "    'eval_metric': 'auc',\n",
    "\n",
    "    'nthread': 8,\n",
    "    'seed': 1,\n",
    "    'verbosity': 1,\n",
    "}\n",
    "model = xgb.train(xgb_params, dtrain, num_boost_round=200,\n",
    "                  verbose_eval=5,\n",
    "                  evals=watchlist)\n",
    "key = 'max_depth=%s' % (xgb_params['max_depth'])\n",
    "scoresDepth[key] = parse_xgb_output(output)"
   ]
  },
  {
   "cell_type": "code",
   "execution_count": 184,
   "metadata": {},
   "outputs": [
    {
     "data": {
      "text/plain": [
       "<matplotlib.legend.Legend at 0x20daad013d0>"
      ]
     },
     "execution_count": 184,
     "metadata": {},
     "output_type": "execute_result"
    },
    {
     "data": {
      "image/png": "[encoded data removed]",
      "text/plain": [
       "<Figure size 432x288 with 1 Axes>"
      ]
     },
     "metadata": {
      "needs_background": "light"
     },
     "output_type": "display_data"
    }
   ],
   "source": [
    "for max_depth, df_score in scoresDepth.items():\n",
    "    plt.plot(df_score.num_iter, df_score.val_auc, label=max_depth)\n",
    "\n",
    "#plt.ylim(0.84, 0.88)\n",
    "plt.legend()\n"
   ]
  },
  {
   "cell_type": "markdown",
   "metadata": {},
   "source": [
    "## min child weight"
   ]
  },
  {
   "cell_type": "code",
   "execution_count": 185,
   "metadata": {},
   "outputs": [],
   "source": [
    "scoresChild = {}"
   ]
  },
  {
   "cell_type": "code",
   "execution_count": 186,
   "metadata": {},
   "outputs": [],
   "source": [
    "%%capture output\n",
    "xgb_params = {\n",
    "    'eta': 0.3, #try values: 0.01, 0.05, 0.1, 0.3, 1\n",
    "    'max_depth': 6,\n",
    "    'min_child_weight': 1,\n",
    "    \n",
    "    'objective': 'binary:logistic',\n",
    "    'eval_metric': 'auc',\n",
    "\n",
    "    'nthread': 8,\n",
    "    'seed': 1,\n",
    "    'verbosity': 1,\n",
    "}\n",
    "model = xgb.train(xgb_params, dtrain, num_boost_round=200,\n",
    "                  verbose_eval=5,\n",
    "                  evals=watchlist)\n",
    "key = 'min_child_weight=%s' % (xgb_params['min_child_weight'])\n",
    "scoresChild[key] = parse_xgb_output(output)"
   ]
  },
  {
   "cell_type": "code",
   "execution_count": 187,
   "metadata": {},
   "outputs": [],
   "source": [
    "%%capture output\n",
    "xgb_params = {\n",
    "    'eta': 0.3, #try values: 0.01, 0.05, 0.1, 0.3, 1\n",
    "    'max_depth': 6,\n",
    "    'min_child_weight': 10,\n",
    "    \n",
    "    'objective': 'binary:logistic',\n",
    "    'eval_metric': 'auc',\n",
    "\n",
    "    'nthread': 8,\n",
    "    'seed': 1,\n",
    "    'verbosity': 1,\n",
    "}\n",
    "model = xgb.train(xgb_params, dtrain, num_boost_round=200,\n",
    "                  verbose_eval=5,\n",
    "                  evals=watchlist)\n",
    "key = 'min_child_weight=%s' % (xgb_params['min_child_weight'])\n",
    "scoresChild[key] = parse_xgb_output(output)"
   ]
  },
  {
   "cell_type": "code",
   "execution_count": null,
   "metadata": {},
   "outputs": [],
   "source": [
    "%%capture output\n",
    "xgb_params = {\n",
    "    'eta': 0.3, #try values: 0.01, 0.05, 0.1, 0.3, 1\n",
    "    'max_depth': 6,\n",
    "    'min_child_weight': 30,\n",
    "    \n",
    "    'objective': 'binary:logistic',\n",
    "    'eval_metric': 'auc',\n",
    "\n",
    "    'nthread': 8,\n",
    "    'seed': 1,\n",
    "    'verbosity': 1,\n",
    "}\n",
    "model = xgb.train(xgb_params, dtrain, num_boost_round=200,\n",
    "                  verbose_eval=5,\n",
    "                  evals=watchlist)\n",
    "key = 'min_child_weight=%s' % (xgb_params['min_child_weight'])\n",
    "scoresChild[key] = parse_xgb_output(output)"
   ]
  },
  {
   "cell_type": "code",
   "execution_count": 190,
   "metadata": {},
   "outputs": [],
   "source": [
    "%%capture output\n",
    "xgb_params = {\n",
    "    'eta': 0.3, #try values: 0.01, 0.05, 0.1, 0.3, 1\n",
    "    'max_depth': 6,\n",
    "    'min_child_weight': 50,\n",
    "    \n",
    "    'objective': 'binary:logistic',\n",
    "    'eval_metric': 'auc',\n",
    "\n",
    "    'nthread': 8,\n",
    "    'seed': 1,\n",
    "    'verbosity': 1,\n",
    "}\n",
    "model = xgb.train(xgb_params, dtrain, num_boost_round=200,\n",
    "                  verbose_eval=5,\n",
    "                  evals=watchlist)\n",
    "key = 'min_child_weight=%s' % (xgb_params['min_child_weight'])\n",
    "scoresChild[key] = parse_xgb_output(output)"
   ]
  },
  {
   "cell_type": "code",
   "execution_count": 192,
   "metadata": {},
   "outputs": [
    {
     "data": {
      "text/plain": [
       "<matplotlib.legend.Legend at 0x20dae719bb0>"
      ]
     },
     "execution_count": 192,
     "metadata": {},
     "output_type": "execute_result"
    },
    {
     "data": {
      "image/png": "[encoded data removed]",
      "text/plain": [
       "<Figure size 432x288 with 1 Axes>"
      ]
     },
     "metadata": {
      "needs_background": "light"
     },
     "output_type": "display_data"
    }
   ],
   "source": [
    "for max_child, df_score in scoresChild.items():\n",
    "    plt.plot(df_score.num_iter, df_score.val_auc, label=max_child)\n",
    "\n",
    "#plt.ylim(0.84, 0.88)\n",
    "plt.legend()\n"
   ]
  },
  {
   "cell_type": "markdown",
   "metadata": {},
   "source": [
    "### final XGBOOST"
   ]
  },
  {
   "cell_type": "code",
   "execution_count": 19,
   "metadata": {},
   "outputs": [
    {
     "name": "stdout",
     "output_type": "stream",
     "text": [
      "[0]\ttrain-auc:0.84868\tval-auc:0.85752\n",
      "[5]\ttrain-auc:0.85718\tval-auc:0.86615\n",
      "[10]\ttrain-auc:0.86691\tval-auc:0.87359\n",
      "[15]\ttrain-auc:0.87089\tval-auc:0.87835\n",
      "[20]\ttrain-auc:0.87433\tval-auc:0.88147\n",
      "[24]\ttrain-auc:0.87608\tval-auc:0.88279\n"
     ]
    }
   ],
   "source": [
    "xgb_params = {\n",
    "    'eta': 0.3, #try values: 0.01, 0.05, 0.1, 0.3, 1\n",
    "    'max_depth': 6,\n",
    "    'min_child_weight': 30,\n",
    "    \n",
    "    'objective': 'binary:logistic',\n",
    "    'eval_metric': 'auc',\n",
    "\n",
    "    'nthread': 8,\n",
    "    'seed': 1,\n",
    "    'verbosity': 1,\n",
    "}\n",
    "finalXGBoost = xgb.train(xgb_params, dfullTrainval, num_boost_round=25,\n",
    "                  verbose_eval=5,\n",
    "                  evals=watchlist)"
   ]
  },
  {
   "cell_type": "markdown",
   "metadata": {},
   "source": [
    "# final evaluation of models on test set\n",
    "\n",
    "## test scoring"
   ]
  },
  {
   "cell_type": "code",
   "execution_count": 23,
   "metadata": {},
   "outputs": [],
   "source": [
    "logisticTest = finalLogisticReg.predict_proba(x_test[['revolveUtilUnsecured', 'times30to59dayslate', 'times60to89dayslate', 'times90DaysLate']])[:,1]\n",
    "decisionTreeTest = finalDeicisionTree.predict_proba(x_test)[:,1]\n",
    "randomForestTest = finalRandomForest.predict_proba(x_test)[:,1]\n",
    "xgbTest = finalXGBoost.predict(dTest)"
   ]
  },
  {
   "cell_type": "markdown",
   "metadata": {},
   "source": [
    "## AUC calculation"
   ]
  },
  {
   "cell_type": "code",
   "execution_count": 28,
   "metadata": {},
   "outputs": [
    {
     "name": "stdout",
     "output_type": "stream",
     "text": [
      "Model: logistic regression, AUC: 0.8407069164465188\n",
      "Model: decision tree, AUC: 0.8513916124792504\n",
      "Model: random forest, AUC: 0.8626255659015528\n",
      "Model: xgBoost, AUC: 0.8629411304876153\n"
     ]
    }
   ],
   "source": [
    "logisticAuc = roc_auc_score(y_test, logisticTest)\n",
    "decistionTreeAuc = roc_auc_score(y_test, decisionTreeTest)\n",
    "randomforestAuc = roc_auc_score(y_test, randomForestTest)\n",
    "xgbAuc = roc_auc_score(y_test, xgbTest)\n",
    "\n",
    "print(f'Model: logistic regression, AUC: {logisticAuc}')\n",
    "print(f'Model: decision tree, AUC: {decistionTreeAuc}')\n",
    "print(f'Model: random forest, AUC: {randomforestAuc}')\n",
    "print(f'Model: xgBoost, AUC: {xgbAuc}')\n",
    "      "
   ]
  },
  {
   "cell_type": "markdown",
   "metadata": {},
   "source": [
    "### random forest with no missing impute"
   ]
  },
  {
   "cell_type": "code",
   "execution_count": 32,
   "metadata": {},
   "outputs": [
    {
     "name": "stderr",
     "output_type": "stream",
     "text": [
      "<ipython-input-32-caa30883b9bf>:2: SettingWithCopyWarning: \n",
      "A value is trying to be set on a copy of a slice from a DataFrame\n",
      "\n",
      "See the caveats in the documentation: https://pandas.pydata.org/pandas-docs/stable/user_guide/indexing.html#returning-a-view-versus-a-copy\n",
      "  data.age[data.age < 18] = 18\n"
     ]
    }
   ],
   "source": [
    "data.revolveUtilUnsecured = np.log1p(data.revolveUtilUnsecured)\n",
    "data.age[data.age < 18] = 18\n",
    "data.times30to59dayslate = np.log1p(data.times30to59dayslate)\n",
    "\n",
    "#data.loc[data.monthlyIncome.isnull(), 'incomeNullInd'] = 1\n",
    "#data.incomeNullInd = data.incomeNullInd.fillna(0).astype(int)\n",
    "\n",
    "incomeAvg = data.monthlyIncome.mean()\n",
    "\n",
    "data.totalCreditLines = np.log1p(data.totalCreditLines)\n",
    "data.times90DaysLate = np.log1p(data.times90DaysLate)\n",
    "data.realEstateLines = np.log1p(data.realEstateLines)\n",
    "data.times60to89dayslate = np.log1p(data.times60to89dayslate)\n",
    "\n",
    "\n",
    "df_full_train, df_test = train_test_split(data, test_size=0.20, random_state=42)\n",
    "df_train, df_valid = train_test_split(df_full_train, test_size = 0.25, random_state = 42)\n",
    "\n",
    "x_train = df_train\n",
    "x_valid = df_valid\n",
    "x_test = df_test\n",
    "x_full_train = df_full_train\n",
    "\n",
    "y_train = x_train.delinquent.values\n",
    "y_valid = x_valid.delinquent.values\n",
    "y_test = x_test.delinquent.values\n",
    "y_full_train = x_full_train.delinquent.values\n",
    "\n",
    "del x_train['delinquent']\n",
    "del x_valid['delinquent']\n",
    "del x_test['delinquent']\n",
    "del x_full_train['delinquent']"
   ]
  },
  {
   "cell_type": "code",
   "execution_count": 33,
   "metadata": {},
   "outputs": [
    {
     "data": {
      "text/plain": [
       "RandomForestClassifier(max_depth=9, min_samples_leaf=100, n_estimators=50,\n",
       "                       random_state=42)"
      ]
     },
     "execution_count": 33,
     "metadata": {},
     "output_type": "execute_result"
    }
   ],
   "source": [
    "finalRandomForest = RandomForestClassifier(n_estimators = 50,max_depth = 9, min_samples_leaf = 100, random_state = 42)\n",
    "finalRandomForest.fit(x_full_train, y_full_train)    "
   ]
  },
  {
   "cell_type": "code",
   "execution_count": 34,
   "metadata": {},
   "outputs": [
    {
     "name": "stdout",
     "output_type": "stream",
     "text": [
      "Model: random forest, AUC: 0.8626256205921224\n"
     ]
    }
   ],
   "source": [
    "randomForestTest = finalRandomForest.predict_proba(x_test)[:,1]\n",
    "randomforestAuc = roc_auc_score(y_test, randomForestTest)\n",
    "print(f'Model: random forest, no missing imputation, AUC: {randomforestAuc}')"
   ]
  }
 ],
 "metadata": {
  "kernelspec": {
   "display_name": "Python 3",
   "language": "python",
   "name": "python3"
  },
  "language_info": {
   "codemirror_mode": {
    "name": "ipython",
    "version": 3
   },
   "file_extension": ".py",
   "mimetype": "text/x-python",
   "name": "python",
   "nbconvert_exporter": "python",
   "pygments_lexer": "ipython3",
   "version": "3.8.3"
  }
 },
 "nbformat": 4,
 "nbformat_minor": 4
}
